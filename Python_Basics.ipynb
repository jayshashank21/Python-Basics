{
  "nbformat": 4,
  "nbformat_minor": 0,
  "metadata": {
    "colab": {
      "provenance": [],
      "toc_visible": true
    },
    "kernelspec": {
      "name": "python3",
      "display_name": "Python 3"
    },
    "language_info": {
      "name": "python"
    }
  },
  "cells": [
    {
      "cell_type": "code",
      "execution_count": null,
      "metadata": {
        "id": "8y9uLg3fX3bJ"
      },
      "outputs": [],
      "source": []
    },
    {
      "cell_type": "markdown",
      "source": [
        "**Python Basics Questions**\n",
        "\n",
        "Q.1 What is Python, and why is it popular?\n",
        "Ans-Python is a high-level, versatile programming language known for its simple and readable syntax. It is popular for data analysis, web development, automation, and machine learning due to its vast libraries and tools. Python is cross-platform, easy to learn, and has strong community support, making it widely adopted.\n",
        "\n",
        "Q.2 What is an interpreter in Python?\n",
        "Ans- In Python, an interpreter is a program that executes Python code line by line. It reads the source code, translates it into machine-readable instructions, and runs it directly without needing prior compilation. This allows for easier debugging and makes Python an interpreted language.\n",
        "\n",
        "Q.3 What are pre-defined keywords in Python?\n",
        "Ans- Pre-defined keywords in Python are reserved words that have specific meanings and purposes within the language. These keywords cannot be used as variable names, function names, or identifiers.\n",
        "\n",
        "Examples of Python keywords include:\n",
        "if, else, while, for, def, class, import, True, False, and, or, not, return, try, except.\n",
        "\n",
        "Q.4 Can keywords be used as variable names?\n",
        "Ans- No, keywords cannot be used as variable names in Python. Keywords are reserved words with specific meanings in the Python language, and using them as variable names will result in a SyntaxError.\n",
        "\n",
        "Q.5 What is mutability in Python?\n",
        "Ans- Mutability in Python refers to an object's ability to be changed or modified after it is created.\n",
        "Example: List.\n",
        "\n",
        "Q.6 Why are lists mutable, but tuples are immutable?\n",
        "Ans- Lists are mutable because they are designed to allow changes like adding, removing, or modifying elements after creation.\n",
        "Tuples, on the other hand, are immutable to ensure data integrity and efficiency. Once a tuple is created, its elements cannot be modified.\n",
        "\n",
        "Q.7  What is the difference between “==” and “is” operators in Python?\n",
        "Ans- **== (Equality Operator):** It checks whether values of two objects are equal.\n",
        "It does not compare the memory location of the objects.\n",
        "**is (Identity Operator):** It checks whether two objects refer to the same memory location (i.e., they are identical).\n",
        "Even if the values are equal, is will return False if they are two separate objects.\n",
        "\n",
        "Q.8 What are logical operators in Python?\n",
        "Ans- In Python, logical operators are used to combine conditional statements and perform logical operations. The three main logical operators are: and, or and not.\n",
        "\n",
        "Q.9 What is type casting in Python?\n",
        "Ans- Type casting in Python refers to the process of converting one data type to another. Python provides two types of type casting:Implicit Type Casting & Explicit Type Casting.\n",
        "\n",
        "Q10. What is the difference between implicit and explicit type casting?\n",
        "Ans- Implicit Type Casting: Happens automatically and is done by Python.\n",
        "Explicit Type Casting: Requires manual conversion by the programmer using functions like int(), float(), etc.\n",
        "\n",
        "Q.11 What is the purpose of conditional statements in Python?\n",
        "Ans- The purpose of conditional statements in Python is to control the flow of execution based on certain conditions. They allow the program to make decisions and execute specific blocks of code depending on whether a condition is True or False. This enables the program to behave differently under different circumstances.\n",
        "\n",
        "Q.12 How does the elif statement work?\n",
        "Ans- The elif (short for \"else if\") statement in Python is used to check additional conditions if the initial if condition is False. It allows you to test multiple conditions sequentially without needing multiple nested if statements.\n",
        "Example:\n",
        "x = 15\n",
        "\n",
        "if x < 10:\n",
        "    print(\"x is less than 10\")\n",
        "elif x == 15:\n",
        "    print(\"x is equal to 15\")\n",
        "elif x > 20:\n",
        "    print(\"x is greater than 20\")\n",
        "else:\n",
        "    print(\"x is something else\")\n",
        "\n",
        "Output-x is equal to 15.\n",
        "\n",
        "Q.13 What is the difference between for and while loops?\n",
        "Ans- The main difference between the for loop and the while loop in Python lies in how they are used to iterate over a sequence or run a block of code repeatedly.\n",
        "for loop:\n",
        "Purpose: The for loop is used when you know the number of iterations or when you're iterating over a sequence (like a list, tuple, string, or range).\n",
        "while loop:\n",
        "Purpose: The while loop is used when you want to repeat a block of code while a condition is true. It is often used when the number of iterations is not known in advance.\n",
        "\n",
        "Q.14 Describe a scenario where a while loop is more suitable than a for loop?\n",
        "Ans- A while loop is more suitable than a for loop in scenarios where the number of iterations is unknown or depends on a dynamic condition that may change during execution.\n",
        "\n",
        "Scenario: Waiting for User Input or Until a Condition is Met\n",
        "Imagine you want to keep asking a user for their input until they enter a valid value (e.g., a number). The number of attempts is unknown, as the user could keep entering invalid input until they provide a correct one. In this case, a while loop is ideal.\n",
        "\n",
        "\n",
        "--------------------------------------------------------------------------------\n",
        "**Practical Questions**\n",
        "\n",
        "\n",
        "\n",
        "\n",
        "\n"
      ],
      "metadata": {
        "id": "gy78_HkoX4Qe"
      }
    },
    {
      "cell_type": "code",
      "source": [
        "# Q.1 Write a Python program to print \"Hello, World!\"?\n",
        "print(\"Hello, World\")"
      ],
      "metadata": {
        "colab": {
          "base_uri": "https://localhost:8080/"
        },
        "id": "awdApK2AgzHt",
        "outputId": "7e4590fc-161c-464b-fd0b-f84c9c6b6d09"
      },
      "execution_count": 2,
      "outputs": [
        {
          "output_type": "stream",
          "name": "stdout",
          "text": [
            "Hello, World\n"
          ]
        }
      ]
    },
    {
      "cell_type": "code",
      "source": [
        "# Q.2 Write a Python program that displays your name and age?\n",
        "name = \"Shashank\"\n",
        "age = 23\n",
        "\n",
        "print(\"Name:\", name)\n",
        "print(\"Age:\", age)\n"
      ],
      "metadata": {
        "colab": {
          "base_uri": "https://localhost:8080/"
        },
        "id": "1I-Qc9lUhnZ0",
        "outputId": "2e33370b-d85a-46e3-e555-c87bcfa4af59"
      },
      "execution_count": 3,
      "outputs": [
        {
          "output_type": "stream",
          "name": "stdout",
          "text": [
            "Name: Shashank\n",
            "Age: 23\n"
          ]
        }
      ]
    },
    {
      "cell_type": "code",
      "source": [
        "# Q.3 Write code to print all the pre-defined keywords in Python using the keyword library?\n",
        "help(\"keywords\")"
      ],
      "metadata": {
        "colab": {
          "base_uri": "https://localhost:8080/"
        },
        "id": "AR2XjdTBh89x",
        "outputId": "b86cb9c8-3488-43b6-b8a0-81402768a40c"
      },
      "execution_count": 5,
      "outputs": [
        {
          "output_type": "stream",
          "name": "stdout",
          "text": [
            "\n",
            "Here is a list of the Python keywords.  Enter any keyword to get more help.\n",
            "\n",
            "False               class               from                or\n",
            "None                continue            global              pass\n",
            "True                def                 if                  raise\n",
            "and                 del                 import              return\n",
            "as                  elif                in                  try\n",
            "assert              else                is                  while\n",
            "async               except              lambda              with\n",
            "await               finally             nonlocal            yield\n",
            "break               for                 not                 \n",
            "\n"
          ]
        }
      ]
    },
    {
      "cell_type": "code",
      "source": [
        "# Q.4 Write a program that checks if a given word is a Python keyword?\n",
        "import keyword\n",
        "word = input(\"Enter a word to check if it's a Python keyword: \")\n",
        "if keyword.iskeyword(word):\n",
        "    print(f\"'{word}' is a Python keyword.\")\n",
        "else:\n",
        "    print(f\"'{word}' is not a Python keyword.\")\n"
      ],
      "metadata": {
        "colab": {
          "base_uri": "https://localhost:8080/"
        },
        "id": "hxJLdm_7ixMz",
        "outputId": "2b792387-1949-43f8-d52e-918dc0f694e1"
      },
      "execution_count": 6,
      "outputs": [
        {
          "output_type": "stream",
          "name": "stdout",
          "text": [
            "Enter a word to check if it's a Python keyword: if\n",
            "'if' is a Python keyword.\n"
          ]
        }
      ]
    },
    {
      "cell_type": "code",
      "source": [
        "# Q.5 Create a list and tuple in Python, and demonstrate how attempting to change an element works differently for each?\n",
        "my_list = [1, 2, 3, 4]\n",
        "my_tuple = (1, 2, 3, 4)\n",
        "my_list[0] = 10\n",
        "print(\"Updated list:\", my_list)\n",
        "try:\n",
        "    my_tuple[0] = 10\n",
        "except TypeError as e:\n",
        "    print(\"Error while modifying tuple:\", e)\n"
      ],
      "metadata": {
        "colab": {
          "base_uri": "https://localhost:8080/"
        },
        "id": "cgzO-3zjjrvv",
        "outputId": "7bd6f6a0-8aff-4367-8ee7-c2a3499bc455"
      },
      "execution_count": 7,
      "outputs": [
        {
          "output_type": "stream",
          "name": "stdout",
          "text": [
            "Updated list: [10, 2, 3, 4]\n",
            "Error while modifying tuple: 'tuple' object does not support item assignment\n"
          ]
        }
      ]
    },
    {
      "cell_type": "code",
      "source": [
        "# Q.6  Write a function to demonstrate the behavior of mutable and immutable arguments?\n",
        "def demonstrate_mutability(arg1, arg2):\n",
        "    arg1.append(4)\n",
        "    print(\"Inside function (mutable):\", arg1)\n",
        "    arg2 += 1\n",
        "    print(\"Inside function (immutable):\", arg2)\n",
        "\n",
        "# Creating a mutable (list) and immutable (integer) argument\n",
        "my_list = [1, 2, 3]\n",
        "my_number = 10\n",
        "\n",
        "demonstrate_mutability(my_list, my_number)\n",
        "\n",
        "# Printing the variables after the function call\n",
        "print(\"After function call (mutable):\", my_list)  # The list is modified\n",
        "print(\"After function call (immutable):\", my_number)  # The number remains unchanged\n"
      ],
      "metadata": {
        "colab": {
          "base_uri": "https://localhost:8080/"
        },
        "id": "iT8a1OAslIRG",
        "outputId": "cf46fced-f40a-47a9-b00c-4beef58093b3"
      },
      "execution_count": 8,
      "outputs": [
        {
          "output_type": "stream",
          "name": "stdout",
          "text": [
            "Inside function (mutable): [1, 2, 3, 4]\n",
            "Inside function (immutable): 11\n",
            "After function call (mutable): [1, 2, 3, 4]\n",
            "After function call (immutable): 10\n"
          ]
        }
      ]
    },
    {
      "cell_type": "code",
      "source": [
        "# Q.7 Write a function to demonstrate the behavior of mutable and immutable arguments?\n",
        "# Same question as question 6.\n",
        "\n",
        "# Q.8 Write a program to demonstrate the use of logical operators?\n",
        "x = 5\n",
        "y = 10\n",
        "z = 15\n",
        "\n",
        "# Using the 'and' operator\n",
        "if x < y and y < z:\n",
        "    print(\"Using 'and' operator: x < y and y < z is True\")\n",
        "\n",
        "# Using the 'or' operator\n",
        "if x < y or y > z:\n",
        "    print(\"Using 'or' operator: x < y or y > z is True\")\n",
        "\n",
        "# Using the 'not' operator\n",
        "if not x > y:\n",
        "    print(\"Using 'not' operator: x > y is False, so not x > y is True\")\n"
      ],
      "metadata": {
        "colab": {
          "base_uri": "https://localhost:8080/"
        },
        "id": "atgCCx4HmVL3",
        "outputId": "88b3c9d7-69cd-4a43-ceb6-93ffdc34f6b9"
      },
      "execution_count": 9,
      "outputs": [
        {
          "output_type": "stream",
          "name": "stdout",
          "text": [
            "Using 'and' operator: x < y and y < z is True\n",
            "Using 'or' operator: x < y or y > z is True\n",
            "Using 'not' operator: x > y is False, so not x > y is True\n"
          ]
        }
      ]
    },
    {
      "cell_type": "code",
      "source": [
        "# Q.9 Write a Python program to convert user input from string to integer, float, and boolean types?\n",
        "# Get user input as a string\n",
        "user_input = input(\"Enter a value: \")\n",
        "\n",
        "# Convert to integer (if possible)\n",
        "try:\n",
        "    int_value = int(user_input)\n",
        "    print(f\"Converted to integer: {int_value}\")\n",
        "except ValueError as e:\n",
        "    print(\"Invalid input for integer conversion.\",e)\n",
        "\n",
        "# Convert to float (if possible)\n",
        "try:\n",
        "    float_value = float(user_input)\n",
        "    print(f\"Converted to float: {float_value}\")\n",
        "except ValueError as e:\n",
        "    print(\"Invalid input for float conversion.\",e)\n",
        "\n",
        "# Convert to boolean\n",
        "# In Python, empty string is False, any non-empty string is True\n",
        "bool_value = bool(user_input)\n",
        "print(f\"Converted to boolean: {bool_value}\")\n"
      ],
      "metadata": {
        "colab": {
          "base_uri": "https://localhost:8080/"
        },
        "id": "zSiKozCQnaGk",
        "outputId": "0676ce34-a327-44dd-cce8-0a462c3b29bf"
      },
      "execution_count": 12,
      "outputs": [
        {
          "output_type": "stream",
          "name": "stdout",
          "text": [
            "Enter a value: jay\n",
            "Invalid input for integer conversion. invalid literal for int() with base 10: 'jay'\n",
            "Invalid input for float conversion. could not convert string to float: 'jay'\n",
            "Converted to boolean: True\n"
          ]
        }
      ]
    },
    {
      "cell_type": "code",
      "source": [
        "# Q.10 Write code to demonstrate type casting with list elements?\n",
        "# Original list of string elements\n",
        "my_list = ['1', '2.5', 'True', '3']\n",
        "\n",
        "# Convert the list elements to different types\n",
        "int_list = [int(x) for x in my_list if x.isdigit()]\n",
        "# Change this line to handle 'True'\n",
        "float_list = [float(x) if x != 'True' else float(1) for x in my_list]\n",
        "# or float_list = [float(x) if x not in ('True', 'False') else float(int(x == 'True')) for x in my_list]\n",
        "\n",
        "bool_list = [bool(x) for x in my_list]\n",
        "\n",
        "# Print the results\n",
        "print(\"Original list:\", my_list)\n",
        "print(\"List after type casting to integers:\", int_list)\n",
        "print(\"List after type casting to floats:\", float_list)\n",
        "print(\"List after type casting to booleans:\", bool_list)\n"
      ],
      "metadata": {
        "colab": {
          "base_uri": "https://localhost:8080/"
        },
        "id": "b_wDuhBSoqtf",
        "outputId": "46f4b869-34dc-48c7-9d8a-a414415e7cc1"
      },
      "execution_count": 18,
      "outputs": [
        {
          "output_type": "stream",
          "name": "stdout",
          "text": [
            "Original list: ['1', '2.5', 'True', '3']\n",
            "List after type casting to integers: [1, 3]\n",
            "List after type casting to floats: [1.0, 2.5, 1.0, 3.0]\n",
            "List after type casting to booleans: [True, True, True, True]\n"
          ]
        }
      ]
    },
    {
      "cell_type": "code",
      "source": [
        "# Q.11 Write a program that checks if a number is positive, negative, or zero?\n",
        "# Get input from the user\n",
        "num = float(input(\"Enter a number: \"))\n",
        "\n",
        "# Check if the number is positive, negative, or zero\n",
        "if num > 0:\n",
        "    print(\"The number is positive.\")\n",
        "elif num < 0:\n",
        "    print(\"The number is negative.\")\n",
        "else:\n",
        "    print(\"The number is zero.\")\n"
      ],
      "metadata": {
        "colab": {
          "base_uri": "https://localhost:8080/"
        },
        "id": "hyxQ6mqtrJ6g",
        "outputId": "0ed89b73-7402-4273-9610-b4a3486cf5c8"
      },
      "execution_count": 19,
      "outputs": [
        {
          "output_type": "stream",
          "name": "stdout",
          "text": [
            "Enter a number: 6\n",
            "The number is positive.\n"
          ]
        }
      ]
    },
    {
      "cell_type": "code",
      "source": [
        "# Q.12  Write a for loop to print numbers from 1 to 10?\n",
        "for i in range(1,11):\n",
        "  print(i)"
      ],
      "metadata": {
        "colab": {
          "base_uri": "https://localhost:8080/"
        },
        "id": "7fJf3j5YrbNb",
        "outputId": "943a7bb7-a678-44f6-c19d-eb80a7fb3641"
      },
      "execution_count": 21,
      "outputs": [
        {
          "output_type": "stream",
          "name": "stdout",
          "text": [
            "1\n",
            "2\n",
            "3\n",
            "4\n",
            "5\n",
            "6\n",
            "7\n",
            "8\n",
            "9\n",
            "10\n"
          ]
        }
      ]
    },
    {
      "cell_type": "code",
      "source": [
        "#Q.13 Write a Python program to find the sum of all even numbers between 1 and 500?\n",
        "sum_even = 0\n",
        "for num in range(2, 501, 2):\n",
        "    sum_even += num\n",
        "print(\"The sum of even numbers between 1 and 500 is:\", sum_even)\n"
      ],
      "metadata": {
        "colab": {
          "base_uri": "https://localhost:8080/"
        },
        "id": "iyKYa0Msr2vq",
        "outputId": "e29ac54c-a10b-47cf-bbdd-00a208eb1e75"
      },
      "execution_count": 22,
      "outputs": [
        {
          "output_type": "stream",
          "name": "stdout",
          "text": [
            "The sum of even numbers between 1 and 500 is: 62750\n"
          ]
        }
      ]
    },
    {
      "cell_type": "code",
      "source": [
        "# Q.14 Write a program to reverse a string using a while loop?\n",
        "# Function to reverse a string using a while loop\n",
        "def reverse_string(input_string):\n",
        "    reversed_string = \"\"  # Initialize an empty string to store the reversed string\n",
        "    index = len(input_string) - 1  # Set the index to the last character of the input string\n",
        "\n",
        "    # Iterate through the string in reverse order\n",
        "    while index >= 0:\n",
        "        reversed_string += input_string[index]  # Append the current character to the reversed string\n",
        "        index -= 1  # Move to the previous character\n",
        "\n",
        "    return reversed_string  # Return the reversed string\n",
        "\n",
        "# Example usage\n",
        "input_str = \"Hello, World!\"\n",
        "reversed_str = reverse_string(input_str)\n",
        "print(f\"Original string: {input_str}\")\n",
        "print(f\"Reversed string: {reversed_str}\")\n"
      ],
      "metadata": {
        "colab": {
          "base_uri": "https://localhost:8080/"
        },
        "id": "NLNOfYfRsMjR",
        "outputId": "f227e68a-7b05-49a1-b026-65ea9fdbe3e3"
      },
      "execution_count": 25,
      "outputs": [
        {
          "output_type": "stream",
          "name": "stdout",
          "text": [
            "Original string: Hello, World!\n",
            "Reversed string: !dlroW ,olleH\n"
          ]
        }
      ]
    },
    {
      "cell_type": "code",
      "source": [
        "# Q.15  Write a Python program to calculate the factorial of a number provided by the user using a while loop?\n",
        "# Function to calculate factorial using a while loop\n",
        "def calculate_factorial(number):\n",
        "    if number < 0:\n",
        "        return \"Factorial does not exist for negative numbers.\"\n",
        "    elif number == 0:\n",
        "        return 1\n",
        "    else:\n",
        "        factorial = 1\n",
        "        while number > 0:\n",
        "            factorial *= number\n",
        "            number -= 1\n",
        "        return factorial\n",
        "\n",
        "# Input from the user\n",
        "try:\n",
        "    user_input = int(input(\"Enter a number to calculate its factorial: \"))\n",
        "    result = calculate_factorial(user_input)\n",
        "    print(f\"The factorial is: {result}\")\n",
        "except ValueError:\n",
        "    print(\"Please enter a valid integer.\")\n"
      ],
      "metadata": {
        "colab": {
          "base_uri": "https://localhost:8080/"
        },
        "id": "wT2Xxa0mtRZQ",
        "outputId": "f223f536-4b34-4c8e-8219-36e6d81ada7c"
      },
      "execution_count": 26,
      "outputs": [
        {
          "output_type": "stream",
          "name": "stdout",
          "text": [
            "Enter a number to calculate its factorial: 6\n",
            "The factorial is: 720\n"
          ]
        }
      ]
    }
  ]
}